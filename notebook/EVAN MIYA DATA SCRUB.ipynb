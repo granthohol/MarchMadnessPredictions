{
 "cells": [
  {
   "cell_type": "code",
   "execution_count": 2,
   "metadata": {},
   "outputs": [],
   "source": [
    "import pandas as pd"
   ]
  },
  {
   "cell_type": "code",
   "execution_count": 3,
   "metadata": {},
   "outputs": [],
   "source": [
    "df_2013 = pd.read_csv(\"data/evanmiya2013.csv\")\n",
    "df_2014 = pd.read_csv(\"data/evanmiya2014.csv\")\n",
    "df_2015 = pd.read_csv(\"data/evanmiya2015.csv\")\n",
    "df_2016 = pd.read_csv(\"data/evanmiya2016.csv\")\n",
    "df_2017 = pd.read_csv(\"data/evanmiya2017.csv\")\n",
    "df_2018 = pd.read_csv(\"data/evanmiya2018.csv\")\n",
    "df_2019 = pd.read_csv(\"data/evanmiya2019.csv\")\n",
    "df_2021 = pd.read_csv(\"data/evanmiya2021.csv\")\n",
    "df_2022 = pd.read_csv(\"data/evanmiya2022.csv\")\n",
    "df_2023 = pd.read_csv(\"data/evanmiya2023.csv\")"
   ]
  },
  {
   "cell_type": "code",
   "execution_count": 4,
   "metadata": {},
   "outputs": [],
   "source": [
    "df_2013['YEAR'] = '2013'\n",
    "df_2014['YEAR'] = '2014'\n",
    "df_2015['YEAR'] = '2015'\n",
    "df_2016['YEAR'] = '2016'\n",
    "df_2017['YEAR'] = '2017'\n",
    "df_2018['YEAR'] = '2018'\n",
    "df_2019['YEAR'] = '2019'\n",
    "df_2021['YEAR'] = '2021'\n",
    "df_2022['YEAR'] = '2022'\n",
    "df_2023['YEAR'] = '2023'"
   ]
  },
  {
   "cell_type": "code",
   "execution_count": 5,
   "metadata": {},
   "outputs": [
    {
     "data": {
      "text/plain": [
       "rank                         0\n",
       "team                         0\n",
       "obpr                         0\n",
       "dbpr                         0\n",
       "bpr                          0\n",
       "off_rank                     0\n",
       "def_rank                     0\n",
       "tempo                        0\n",
       "tempo_rank                   0\n",
       "home_rank                    0\n",
       "wins                         0\n",
       "losses                       0\n",
       "color_O                      0\n",
       "color_D                      0\n",
       "color_Diff                   0\n",
       "YEAR                         0\n",
       "runs_per_game             3159\n",
       "runs_conceded_per_game    3159\n",
       "runs_total                3159\n",
       "runs_conceded_total       3159\n",
       "dtype: int64"
      ]
     },
     "execution_count": 5,
     "metadata": {},
     "output_type": "execute_result"
    }
   ],
   "source": [
    "df_em = pd.concat([df_2013, df_2014, df_2015, df_2016, df_2017, df_2018, df_2019, df_2021, df_2022, df_2023], ignore_index=True)\n",
    "df_em.isna().sum()"
   ]
  },
  {
   "cell_type": "code",
   "execution_count": 6,
   "metadata": {},
   "outputs": [
    {
     "data": {
      "text/html": [
       "<div>\n",
       "<style scoped>\n",
       "    .dataframe tbody tr th:only-of-type {\n",
       "        vertical-align: middle;\n",
       "    }\n",
       "\n",
       "    .dataframe tbody tr th {\n",
       "        vertical-align: top;\n",
       "    }\n",
       "\n",
       "    .dataframe thead th {\n",
       "        text-align: right;\n",
       "    }\n",
       "</style>\n",
       "<table border=\"1\" class=\"dataframe\">\n",
       "  <thead>\n",
       "    <tr style=\"text-align: right;\">\n",
       "      <th></th>\n",
       "      <th>team</th>\n",
       "      <th>YEAR</th>\n",
       "      <th>obpr</th>\n",
       "      <th>dbpr</th>\n",
       "      <th>bpr</th>\n",
       "      <th>home_rank</th>\n",
       "    </tr>\n",
       "  </thead>\n",
       "  <tbody>\n",
       "    <tr>\n",
       "      <th>0</th>\n",
       "      <td>Louisville</td>\n",
       "      <td>2013</td>\n",
       "      <td>12.182831</td>\n",
       "      <td>15.316494</td>\n",
       "      <td>27.499324</td>\n",
       "      <td>236</td>\n",
       "    </tr>\n",
       "    <tr>\n",
       "      <th>1</th>\n",
       "      <td>Kansas</td>\n",
       "      <td>2013</td>\n",
       "      <td>11.948855</td>\n",
       "      <td>14.740787</td>\n",
       "      <td>26.689642</td>\n",
       "      <td>11</td>\n",
       "    </tr>\n",
       "    <tr>\n",
       "      <th>2</th>\n",
       "      <td>Gonzaga</td>\n",
       "      <td>2013</td>\n",
       "      <td>16.093534</td>\n",
       "      <td>9.716576</td>\n",
       "      <td>25.810110</td>\n",
       "      <td>107</td>\n",
       "    </tr>\n",
       "    <tr>\n",
       "      <th>3</th>\n",
       "      <td>Michigan</td>\n",
       "      <td>2013</td>\n",
       "      <td>17.871829</td>\n",
       "      <td>6.723118</td>\n",
       "      <td>24.594947</td>\n",
       "      <td>68</td>\n",
       "    </tr>\n",
       "    <tr>\n",
       "      <th>4</th>\n",
       "      <td>Florida</td>\n",
       "      <td>2013</td>\n",
       "      <td>12.404495</td>\n",
       "      <td>12.017803</td>\n",
       "      <td>24.422298</td>\n",
       "      <td>31</td>\n",
       "    </tr>\n",
       "  </tbody>\n",
       "</table>\n",
       "</div>"
      ],
      "text/plain": [
       "         team  YEAR       obpr       dbpr        bpr  home_rank\n",
       "0  Louisville  2013  12.182831  15.316494  27.499324        236\n",
       "1      Kansas  2013  11.948855  14.740787  26.689642         11\n",
       "2     Gonzaga  2013  16.093534   9.716576  25.810110        107\n",
       "3    Michigan  2013  17.871829   6.723118  24.594947         68\n",
       "4     Florida  2013  12.404495  12.017803  24.422298         31"
      ]
     },
     "execution_count": 6,
     "metadata": {},
     "output_type": "execute_result"
    }
   ],
   "source": [
    "df_em = df_em[['team', 'YEAR', 'obpr', 'dbpr', 'bpr', 'home_rank']]\n",
    "df_em.head()"
   ]
  },
  {
   "cell_type": "code",
   "execution_count": 8,
   "metadata": {},
   "outputs": [
    {
     "data": {
      "text/html": [
       "<div>\n",
       "<style scoped>\n",
       "    .dataframe tbody tr th:only-of-type {\n",
       "        vertical-align: middle;\n",
       "    }\n",
       "\n",
       "    .dataframe tbody tr th {\n",
       "        vertical-align: top;\n",
       "    }\n",
       "\n",
       "    .dataframe thead th {\n",
       "        text-align: right;\n",
       "    }\n",
       "</style>\n",
       "<table border=\"1\" class=\"dataframe\">\n",
       "  <thead>\n",
       "    <tr style=\"text-align: right;\">\n",
       "      <th></th>\n",
       "      <th>TEAM</th>\n",
       "      <th>YEAR</th>\n",
       "      <th>OBPR</th>\n",
       "      <th>DBPR</th>\n",
       "      <th>BPR</th>\n",
       "      <th>HOME_RANK</th>\n",
       "    </tr>\n",
       "  </thead>\n",
       "  <tbody>\n",
       "    <tr>\n",
       "      <th>0</th>\n",
       "      <td>Louisville</td>\n",
       "      <td>2013</td>\n",
       "      <td>12.182831</td>\n",
       "      <td>15.316494</td>\n",
       "      <td>27.499324</td>\n",
       "      <td>236</td>\n",
       "    </tr>\n",
       "    <tr>\n",
       "      <th>1</th>\n",
       "      <td>Kansas</td>\n",
       "      <td>2013</td>\n",
       "      <td>11.948855</td>\n",
       "      <td>14.740787</td>\n",
       "      <td>26.689642</td>\n",
       "      <td>11</td>\n",
       "    </tr>\n",
       "    <tr>\n",
       "      <th>2</th>\n",
       "      <td>Gonzaga</td>\n",
       "      <td>2013</td>\n",
       "      <td>16.093534</td>\n",
       "      <td>9.716576</td>\n",
       "      <td>25.810110</td>\n",
       "      <td>107</td>\n",
       "    </tr>\n",
       "    <tr>\n",
       "      <th>3</th>\n",
       "      <td>Michigan</td>\n",
       "      <td>2013</td>\n",
       "      <td>17.871829</td>\n",
       "      <td>6.723118</td>\n",
       "      <td>24.594947</td>\n",
       "      <td>68</td>\n",
       "    </tr>\n",
       "    <tr>\n",
       "      <th>4</th>\n",
       "      <td>Florida</td>\n",
       "      <td>2013</td>\n",
       "      <td>12.404495</td>\n",
       "      <td>12.017803</td>\n",
       "      <td>24.422298</td>\n",
       "      <td>31</td>\n",
       "    </tr>\n",
       "  </tbody>\n",
       "</table>\n",
       "</div>"
      ],
      "text/plain": [
       "         TEAM  YEAR       OBPR       DBPR        BPR  HOME_RANK\n",
       "0  Louisville  2013  12.182831  15.316494  27.499324        236\n",
       "1      Kansas  2013  11.948855  14.740787  26.689642         11\n",
       "2     Gonzaga  2013  16.093534   9.716576  25.810110        107\n",
       "3    Michigan  2013  17.871829   6.723118  24.594947         68\n",
       "4     Florida  2013  12.404495  12.017803  24.422298         31"
      ]
     },
     "execution_count": 8,
     "metadata": {},
     "output_type": "execute_result"
    }
   ],
   "source": [
    "df_em = df_em.rename(columns={'team': 'TEAM', 'obpr':'OBPR', 'dbpr':'DBPR', 'bpr':'BPR', 'home_rank':'HOME_RANK'})\n",
    "df_em.head()"
   ]
  },
  {
   "cell_type": "code",
   "execution_count": 10,
   "metadata": {},
   "outputs": [
    {
     "data": {
      "text/html": [
       "<div>\n",
       "<style scoped>\n",
       "    .dataframe tbody tr th:only-of-type {\n",
       "        vertical-align: middle;\n",
       "    }\n",
       "\n",
       "    .dataframe tbody tr th {\n",
       "        vertical-align: top;\n",
       "    }\n",
       "\n",
       "    .dataframe thead th {\n",
       "        text-align: right;\n",
       "    }\n",
       "</style>\n",
       "<table border=\"1\" class=\"dataframe\">\n",
       "  <thead>\n",
       "    <tr style=\"text-align: right;\">\n",
       "      <th></th>\n",
       "      <th>OBPR</th>\n",
       "      <th>DBPR</th>\n",
       "      <th>BPR</th>\n",
       "      <th>HOME_RANK</th>\n",
       "    </tr>\n",
       "  </thead>\n",
       "  <tbody>\n",
       "    <tr>\n",
       "      <th>OBPR</th>\n",
       "      <td>1.000000</td>\n",
       "      <td>0.584028</td>\n",
       "      <td>0.904710</td>\n",
       "      <td>-0.126803</td>\n",
       "    </tr>\n",
       "    <tr>\n",
       "      <th>DBPR</th>\n",
       "      <td>0.584028</td>\n",
       "      <td>1.000000</td>\n",
       "      <td>0.874197</td>\n",
       "      <td>-0.154782</td>\n",
       "    </tr>\n",
       "    <tr>\n",
       "      <th>BPR</th>\n",
       "      <td>0.904710</td>\n",
       "      <td>0.874197</td>\n",
       "      <td>1.000000</td>\n",
       "      <td>-0.157088</td>\n",
       "    </tr>\n",
       "    <tr>\n",
       "      <th>HOME_RANK</th>\n",
       "      <td>-0.126803</td>\n",
       "      <td>-0.154782</td>\n",
       "      <td>-0.157088</td>\n",
       "      <td>1.000000</td>\n",
       "    </tr>\n",
       "  </tbody>\n",
       "</table>\n",
       "</div>"
      ],
      "text/plain": [
       "               OBPR      DBPR       BPR  HOME_RANK\n",
       "OBPR       1.000000  0.584028  0.904710  -0.126803\n",
       "DBPR       0.584028  1.000000  0.874197  -0.154782\n",
       "BPR        0.904710  0.874197  1.000000  -0.157088\n",
       "HOME_RANK -0.126803 -0.154782 -0.157088   1.000000"
      ]
     },
     "execution_count": 10,
     "metadata": {},
     "output_type": "execute_result"
    }
   ],
   "source": [
    "df_corr = df_em.drop(['TEAM', 'YEAR'], axis=1)\n",
    "df_corr.corr()"
   ]
  },
  {
   "cell_type": "code",
   "execution_count": 13,
   "metadata": {},
   "outputs": [],
   "source": [
    "df_em['TEAM'] = df_em['TEAM'].str.replace(' state', ' St.', case=False)"
   ]
  },
  {
   "cell_type": "code",
   "execution_count": 14,
   "metadata": {},
   "outputs": [],
   "source": [
    "df_em.to_csv(\"data/evanmiya_final.csv\", index=False)"
   ]
  }
 ],
 "metadata": {
  "kernelspec": {
   "display_name": "Python 3",
   "language": "python",
   "name": "python3"
  },
  "language_info": {
   "codemirror_mode": {
    "name": "ipython",
    "version": 3
   },
   "file_extension": ".py",
   "mimetype": "text/x-python",
   "name": "python",
   "nbconvert_exporter": "python",
   "pygments_lexer": "ipython3",
   "version": "3.9.0"
  }
 },
 "nbformat": 4,
 "nbformat_minor": 2
}
