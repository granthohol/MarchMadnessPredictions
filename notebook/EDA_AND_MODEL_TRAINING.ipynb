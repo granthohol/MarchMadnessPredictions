{
 "cells": [
  {
   "cell_type": "markdown",
   "metadata": {},
   "source": [
    "# March Madness Team Advancement Probabilities\n",
    "## 1. Problem Statement\n",
    "- This project understands how success in the NCAA College Basketball Tournament (how far a team goes) is affected by numerous team variables. This knowledge will then be used to predict team success in the 2024 College Basketball Tournament."
   ]
  },
  {
   "cell_type": "markdown",
   "metadata": {},
   "source": [
    "## 2. Data Collection\n",
    "- Historical dataset source 1 - https://www.kaggle.com/datasets/andrewsundberg/college-basketball-dataset\n",
    "- Historical dataset source 2 and 2024 dataset source 1 - https://evanmiya.com/?team_ratings\n",
    "- 2024 dataset source 2 - https://barttorvik.com/#"
   ]
  },
  {
   "cell_type": "markdown",
   "metadata": {},
   "source": [
    "## 2.1 Import Data and Required Packages\n",
    "### Importing Pandas, Numpy, Seaborn, Matplotlib, and Scikit-Learn"
   ]
  },
  {
   "cell_type": "code",
   "execution_count": null,
   "metadata": {},
   "outputs": [],
   "source": [
    "import pandas as pd\n",
    "import numpy as np \n",
    "import seaborn as sns\n",
    "import matplotlib.pyplot as plt\n",
    "import sklearn\n",
    "from sklearn.model_selection import train_test_split, GridSearchCV\n",
    "from sklearn.preprocessing import OrdinalEncoder, StandardScaler\n",
    "from sklearn.ensemble import RandomForestClassifier\n",
    "from sklearn.metrics import confusion_matrix, classification_report, make_scorer\n",
    "\n",
    "pd.set_option('display.max_columns', 200)\n",
    "# Define a formatting function to convert floating-point numbers to string representations\n",
    "def format_float(x):\n",
    "    return '{:.2f}'.format(x)\n",
    "\n",
    "# Set the display option to use the formatting function for floating-point numbers\n",
    "pd.set_option('display.float_format', format_float)"
   ]
  },
  {
   "cell_type": "markdown",
   "metadata": {},
   "source": [
    "### Import the CSV Data as Pandas DataFrame"
   ]
  },
  {
   "cell_type": "code",
   "execution_count": null,
   "metadata": {},
   "outputs": [],
   "source": [
    "df = pd.read_csv('data/cbb.csv')\n",
    "df_em = pd.read_csv('data/evanmiya_final.csv')\n"
   ]
  },
  {
   "cell_type": "code",
   "execution_count": null,
   "metadata": {},
   "outputs": [],
   "source": [
    "df.head()"
   ]
  },
  {
   "cell_type": "code",
   "execution_count": null,
   "metadata": {},
   "outputs": [],
   "source": [
    "df_em.head()"
   ]
  },
  {
   "cell_type": "code",
   "execution_count": null,
   "metadata": {},
   "outputs": [],
   "source": [
    "df.shape , df_em.shape"
   ]
  },
  {
   "cell_type": "markdown",
   "metadata": {},
   "source": [
    "### Combine the Two DataFrames"
   ]
  },
  {
   "cell_type": "code",
   "execution_count": null,
   "metadata": {},
   "outputs": [],
   "source": [
    "df = pd.merge(df, df_em, on=['TEAM', 'YEAR'], how='inner')\n",
    "df.columns = df.columns.astype(str)\n",
    "df.head()"
   ]
  },
  {
   "cell_type": "markdown",
   "metadata": {},
   "source": [
    "## 2.2 Dataset Information\n",
    "- RK (Only in cbb20): The ranking of the team at the end of the regular season according to barttorvik\n",
    "- TEAM: The Division I college basketball school\n",
    "- CONF: Conference Team is in \n",
    "- G: Number of games played\n",
    "- W: Number of games won\n",
    "- ADJOE: Adjusted Offensive Efficiency (An estimate of the offensive efficiency (points scored per 100 possessions) a team would have against the average Division I defense)\n",
    "- ADJDE: Adjusted Defensive Efficiency (An estimate of the defensive efficiency (points allowed per 100 possessions) a team would have against the average Division I offense)\n",
    "- BARTHAG: Power Rating (Chance of beating an average Division I team)\n",
    "- EFG_O: Effective Field Goal Percentage Shot\n",
    "- EFG_D: Effective Field Goal Percentage Allowed\n",
    "- TOR: Turnover Percentage Allowed (Turnover Rate)\n",
    "- TORD: Turnover Percentage Committed (Steal Rate)\n",
    "- ORB: Offensive Rebound Rate\n",
    "- DRB: Offensive Rebound Rate Allowed\n",
    "- FTR : Free Throw Rate (How often the given team shoots Free Throws)\n",
    "- FTRD: Free Throw Rate Allowed\n",
    "- 2P_O: Two-Point Shooting Percentage\n",
    "- 2P_D: Two-Point Shooting Percentage Allowed\n",
    "- 3P_O: Three-Point Shooting Percentage\n",
    "- 3P_D: Three-Point Shooting Percentage Allowed\n",
    "- ADJ_T: Adjusted Tempo (An estimate of the tempo (possessions per 40 minutes) a team would have against the team that wants to play at an average Division I tempo)\n",
    "- OBPR: Teams expected offensive efficiency (Points per 100 possesions better than average)\n",
    "- DBPR: Teams expected defensive efficiency\n",
    "- BPR: Sum of OBPR and DBPR\n",
    "- WAB: Wins Above Bubble (The bubble refers to the cut off between making the NCAA March Madness Tournament and not making it)\n",
    "- POSTSEASON: Round where the given team was eliminated or where their season ended (R68 = First Four, R64 = Round of 64, R32 = Round of 32, S16 = Sweet Sixteen, E8 = Elite Eight, F4 = Final Four, 2ND = Runner-up, Champion = Winner of the NCAA March Madness Tournament for that given year)\n",
    "- SEED: Seed in the NCAA March Madness Tournament\n",
    "- YEAR: Season\n",
    "- RANK: rank for the year per Evan Miya\n",
    "- OBPR: Expected offensive efficiency against similar ranked teams\n",
    "- DBPR: Expected defensive efficiency against similar ranked teams\n",
    "- BPR: Overall strength relative to similarly ranked teams\n",
    "- OPPONENT_ADJUST: How well each team performs above or below expectation vs above average or below average opponents (positive is better against better opponents)\n",
    "- PACE_ADJUST: How well each team performs above or below expectation in fast pace vs slow paced games (positive is better in fast paced games)"
   ]
  },
  {
   "cell_type": "markdown",
   "metadata": {},
   "source": [
    "## 3. Data Checks\n",
    "### 3.1 Check Missing Values"
   ]
  },
  {
   "cell_type": "code",
   "execution_count": null,
   "metadata": {},
   "outputs": [],
   "source": [
    "df.isna().sum()"
   ]
  },
  {
   "cell_type": "markdown",
   "metadata": {},
   "source": [
    "### Data set contains teams who did not make the tournament. Remove those teams. "
   ]
  },
  {
   "cell_type": "code",
   "execution_count": null,
   "metadata": {},
   "outputs": [],
   "source": [
    "df = df.dropna(subset=['POSTSEASON'])\n",
    "df.isna().sum()"
   ]
  },
  {
   "cell_type": "markdown",
   "metadata": {},
   "source": [
    "### There are no more missing values"
   ]
  },
  {
   "cell_type": "markdown",
   "metadata": {},
   "source": [
    "### 3.2 Remove R68 Teams\n",
    "Also remove teams who lost in the First Four games (R68). Only eight teams play in this wild card round each year so we will remove it for simplicity. "
   ]
  },
  {
   "cell_type": "code",
   "execution_count": null,
   "metadata": {},
   "outputs": [],
   "source": [
    "df = df[df['POSTSEASON'] != 'R68']"
   ]
  },
  {
   "cell_type": "markdown",
   "metadata": {},
   "source": [
    "### 3.3 Check Duplicates"
   ]
  },
  {
   "cell_type": "code",
   "execution_count": null,
   "metadata": {},
   "outputs": [],
   "source": [
    "df.duplicated(subset=['TEAM', 'YEAR']).sum()"
   ]
  },
  {
   "cell_type": "markdown",
   "metadata": {},
   "source": [
    "### There are no duplicates"
   ]
  },
  {
   "cell_type": "markdown",
   "metadata": {},
   "source": [
    "### 3.4 Remove Unwanted Columns"
   ]
  },
  {
   "cell_type": "code",
   "execution_count": null,
   "metadata": {},
   "outputs": [],
   "source": [
    "\n",
    "df = df.drop(columns=['YEAR', 'TEAM', 'G', 'W', 'CONF'])"
   ]
  },
  {
   "cell_type": "markdown",
   "metadata": {},
   "source": [
    "### 3.5 Check Data Types"
   ]
  },
  {
   "cell_type": "code",
   "execution_count": null,
   "metadata": {},
   "outputs": [],
   "source": [
    "df.info()"
   ]
  },
  {
   "cell_type": "markdown",
   "metadata": {},
   "source": [
    "### 3.6 Ordinally Encode 'POSTSEASON' Variable"
   ]
  },
  {
   "cell_type": "code",
   "execution_count": null,
   "metadata": {},
   "outputs": [],
   "source": [
    "categories = ['R64', 'R32', 'S16', 'E8', 'F4', '2ND', 'Champions']\n",
    "\n",
    "ordinal_encoder = OrdinalEncoder(categories=[categories])\n",
    "ordinal_encoder.fit(df[['POSTSEASON']])\n",
    "df['POSTSEASON'] = ordinal_encoder.transform(df[['POSTSEASON']])\n"
   ]
  },
  {
   "cell_type": "code",
   "execution_count": null,
   "metadata": {},
   "outputs": [],
   "source": [
    "df['POSTSEASON']"
   ]
  },
  {
   "cell_type": "markdown",
   "metadata": {},
   "source": [
    "### 3.8 Correlation and Heatmap\n",
    "### Check for extreme correlations between independent variables"
   ]
  },
  {
   "cell_type": "code",
   "execution_count": null,
   "metadata": {},
   "outputs": [],
   "source": [
    "df_no_conf = df.filter(regex='^(?!CONF).*', axis=1)\n",
    "corr_matrix = df_no_conf.corr()\n",
    "filtered_corr_matrix = corr_matrix[(corr_matrix > 0.9) | (corr_matrix < -0.9)]\n",
    "sns.heatmap(filtered_corr_matrix, annot=True, cmap='coolwarm')"
   ]
  },
  {
   "cell_type": "code",
   "execution_count": null,
   "metadata": {},
   "outputs": [],
   "source": [
    "df_no_conf.corr()"
   ]
  },
  {
   "cell_type": "markdown",
   "metadata": {},
   "source": [
    "### Drop one of the features in an above 0.9 correlation pair"
   ]
  },
  {
   "cell_type": "code",
   "execution_count": null,
   "metadata": {},
   "outputs": [],
   "source": [
    "df = df.drop(columns=['WAB', 'RANK'])\n"
   ]
  },
  {
   "cell_type": "code",
   "execution_count": null,
   "metadata": {},
   "outputs": [],
   "source": [
    "df_no_conf = df.filter(regex='^(?!CONF).*', axis=1)\n",
    "corr_matrix = df_no_conf.corr()\n",
    "filtered_corr_matrix = corr_matrix[(corr_matrix > 0.9) | (corr_matrix < -0.9)]\n",
    "sns.heatmap(filtered_corr_matrix, annot=True, cmap='coolwarm')"
   ]
  },
  {
   "cell_type": "code",
   "execution_count": null,
   "metadata": {},
   "outputs": [],
   "source": [
    "df_no_conf.corr()"
   ]
  },
  {
   "cell_type": "markdown",
   "metadata": {},
   "source": [
    "## 4. Exploratory Data Analysis"
   ]
  },
  {
   "cell_type": "markdown",
   "metadata": {},
   "source": [
    "### BPR vs Games Won Scatterplot"
   ]
  },
  {
   "cell_type": "code",
   "execution_count": 118,
   "metadata": {},
   "outputs": [
    {
     "data": {
      "image/png": "[encoded data removed]",
      "text/plain": [
       "<Figure size 1000x800 with 1 Axes>"
      ]
     },
     "metadata": {},
     "output_type": "display_data"
    }
   ],
   "source": [
    "from scipy.stats import pearsonr\n",
    "\n",
    "sns.set(style='whitegrid', context='notebook')\n",
    "\n",
    "plt.figure(figsize=(10, 8))\n",
    "\n",
    "sns.regplot(data=df, x='POSTSEASON', y = 'BPR', x_jitter=0.1,\n",
    "            scatter_kws={'alpha': 0.75},\n",
    "            line_kws={'lw': 4, 'color':'black'})\n",
    "\n",
    "corr_coef, _ = pearsonr(df['POSTSEASON'], df['BPR'])\n",
    "\n",
    "# Annotate the plot with the correlation coefficient\n",
    "plt.text(5.1, -9, f'R: {corr_coef:.2f}', fontsize=20)\n",
    "\n",
    "plt.yticks([-10, -5, 0, 5, 10, 15, 20, 25, 30, 35])\n",
    "plt.xlabel('Games Won', fontsize=15)\n",
    "plt.ylabel(\"BPR\", fontsize=15)\n",
    "plt.title(\"BPR as a Function of Tournament Games Won\", fontsize=20)\n",
    "plt.show()"
   ]
  },
  {
   "cell_type": "markdown",
   "metadata": {},
   "source": [
    "### Evaluate top 4 seeds who did and did not make the final four"
   ]
  },
  {
   "cell_type": "code",
   "execution_count": null,
   "metadata": {},
   "outputs": [],
   "source": [
    "scaler = StandardScaler()\n",
    "\n",
    "df_top4 = df[df['SEED'] <= 4]\n",
    "df_top4 = pd.DataFrame(scaler.fit_transform(df_top4), columns=df_top4.columns)"
   ]
  },
  {
   "cell_type": "code",
   "execution_count": null,
   "metadata": {},
   "outputs": [],
   "source": [
    "df_top4_f4 = df_top4[df_top4['POSTSEASON'] > 0.53] #0.53\n",
    "del df_top4_f4['POSTSEASON']\n",
    "del df_top4_f4['SEED']\n",
    "df_top4_f4.head()"
   ]
  },
  {
   "cell_type": "code",
   "execution_count": null,
   "metadata": {},
   "outputs": [],
   "source": [
    "df_top4_no = df_top4[df_top4['POSTSEASON'] < 0.53]\n",
    "del df_top4_no['POSTSEASON']\n",
    "del df_top4_no['SEED']\n",
    "df_top4_no.head()"
   ]
  },
  {
   "cell_type": "code",
   "execution_count": null,
   "metadata": {},
   "outputs": [],
   "source": [
    "f4_means = pd.DataFrame(df_top4_f4.mean(), columns=['Mean'])\n",
    "f4_means.head(20)"
   ]
  },
  {
   "cell_type": "code",
   "execution_count": null,
   "metadata": {},
   "outputs": [],
   "source": [
    "nof4_means = pd.DataFrame(df_top4_no.mean(), columns=['Mean'])\n",
    "nof4_means.head(20)"
   ]
  },
  {
   "cell_type": "code",
   "execution_count": null,
   "metadata": {},
   "outputs": [],
   "source": [
    "f4_diff_df = f4_means - nof4_means\n",
    "\n",
    "f4_diff_df = f4_diff_df.T\n",
    "\n",
    "f4_diff_df.head()"
   ]
  },
  {
   "cell_type": "code",
   "execution_count": null,
   "metadata": {},
   "outputs": [],
   "source": [
    "sns.set(style='darkgrid', context='notebook')\n",
    "\n",
    "plt.figure(figsize=(12, 8))\n",
    "\n",
    "# Create the bar plot\n",
    "ax = sns.barplot(data=f4_diff_df, orient='h')\n",
    "# Set the y-tick labels\n",
    "ax.set_yticklabels(f4_diff_df.columns)\n",
    "\n",
    "# Set the labels and title\n",
    "plt.xlabel('Mean Standardized Difference')\n",
    "plt.ylabel('Features')\n",
    "plt.title('Mean Standardized Difference in Stats Between Final Four and non-Final Four Top 4 Seeds')\n",
    "\n",
    "# Show the plot\n",
    "plt.show()\n",
    "\n"
   ]
  },
  {
   "cell_type": "markdown",
   "metadata": {},
   "source": [
    "Fairly notably, offensive teams tend to do better than their defensive-oriented counterparts."
   ]
  },
  {
   "cell_type": "markdown",
   "metadata": {},
   "source": [
    "### Evaluate National Champs vs Non-National Champs"
   ]
  },
  {
   "cell_type": "code",
   "execution_count": null,
   "metadata": {},
   "outputs": [],
   "source": [
    "df_top2 = df[df['SEED'] <= 2]\n",
    "df_top2 = pd.DataFrame(scaler.fit_transform(df_top2), columns=df_top2.columns)\n",
    "\n",
    "df_top2.head()"
   ]
  },
  {
   "cell_type": "code",
   "execution_count": null,
   "metadata": {},
   "outputs": [],
   "source": [
    "df_top2_champ = df_top2[df_top2['POSTSEASON'] > 1.8] \n",
    "\n",
    "df_top2_champ = df_top2_champ.drop(columns=['POSTSEASON', 'SEED'])\n",
    "\n",
    "df_top2_champ.head()"
   ]
  },
  {
   "cell_type": "code",
   "execution_count": null,
   "metadata": {},
   "outputs": [],
   "source": [
    "df_top2_none = df_top2[df_top2['POSTSEASON'] < 1.9]\n",
    "\n",
    "df_top2_none = df_top2_none.drop(columns=['POSTSEASON', 'SEED'])\n",
    "\n",
    "df_top2_none.head()"
   ]
  },
  {
   "cell_type": "code",
   "execution_count": null,
   "metadata": {},
   "outputs": [],
   "source": [
    "champ_means = pd.DataFrame(df_top2_champ.mean(), columns=['Mean'])\n",
    "champ_means.head(20)"
   ]
  },
  {
   "cell_type": "code",
   "execution_count": null,
   "metadata": {},
   "outputs": [],
   "source": [
    "none_means = pd.DataFrame(df_top2_none.mean(), columns=['Mean'])\n",
    "none_means.head(20)"
   ]
  },
  {
   "cell_type": "code",
   "execution_count": null,
   "metadata": {},
   "outputs": [],
   "source": [
    "champ_diff_df = champ_means - none_means\n",
    "\n",
    "champ_diff_df = champ_diff_df.T\n",
    "\n",
    "champ_diff_df.head()"
   ]
  },
  {
   "cell_type": "code",
   "execution_count": null,
   "metadata": {},
   "outputs": [],
   "source": [
    "sns.set_theme(context='notebook', style='darkgrid')\n",
    "\n",
    "plt.figure(figsize=(12, 8))\n",
    "\n",
    "# Create the bar plot\n",
    "ax = sns.barplot(data=champ_diff_df, orient='h')\n",
    "# Set the y-tick labels\n",
    "ax.set_yticklabels(champ_diff_df.columns)\n",
    "\n",
    "# Set the labels and title\n",
    "plt.xlabel('Mean Standardized Difference')\n",
    "plt.ylabel('Features')\n",
    "plt.title('Mean Standardized Difference in Stats Between Champions and not for Top 2 Seeds')\n",
    "\n",
    "# Show the plot\n",
    "plt.show()"
   ]
  },
  {
   "cell_type": "markdown",
   "metadata": {},
   "source": [
    "Some interesting insights. Again, offense seems to matter more than defense. Opponent adjust is a significant metric that is probably underrated. National champs are better in slow paced games. National champs are much better at rebounding and forcing turnovers. "
   ]
  },
  {
   "cell_type": "markdown",
   "metadata": {},
   "source": [
    "## Now lets look into upsets\n",
    "### Look into stats of lower seeded teams who have been upset"
   ]
  },
  {
   "cell_type": "code",
   "execution_count": null,
   "metadata": {},
   "outputs": [],
   "source": [
    "\n",
    "df_6thru3 = df[(df['SEED'] <= 6) & (df['SEED'] >= 3)]\n",
    "df_6thru3 = pd.DataFrame(scaler.fit_transform(df_6thru3), columns=df_6thru3.columns)\n",
    "df_6thru3 = df_6thru3[df_6thru3['POSTSEASON'] < -0.91] # -0.91\n",
    "df_6thru3 = df_6thru3.drop(columns=['POSTSEASON', 'SEED'])\n"
   ]
  },
  {
   "cell_type": "code",
   "execution_count": null,
   "metadata": {},
   "outputs": [],
   "source": [
    "df_top2 = df[df['SEED'] <= 2]\n",
    "df_top2 = pd.DataFrame(scaler.fit_transform(df_top2), columns=df_top2.columns)\n",
    "df_top2 = df_top2[df_top2['POSTSEASON'] < -0.9] # -0.9\n",
    "df_top2 = df_top2.drop(columns=['POSTSEASON', 'SEED'])\n"
   ]
  },
  {
   "cell_type": "code",
   "execution_count": null,
   "metadata": {},
   "outputs": [],
   "source": [
    "df_upset = pd.concat([df_6thru3, df_top2])\n",
    "df_upset.reset_index(drop=True, inplace=True)\n",
    "df_upset.head()\n"
   ]
  },
  {
   "cell_type": "markdown",
   "metadata": {},
   "source": [
    "### Lower seeded teams who were not upset"
   ]
  },
  {
   "cell_type": "code",
   "execution_count": null,
   "metadata": {},
   "outputs": [],
   "source": [
    "df_6thru3_not = df[(df['SEED'] <= 6) & (df['SEED'] >= 3)]\n",
    "df_6thru3_not = pd.DataFrame(scaler.fit_transform(df_6thru3_not), columns=df_6thru3_not.columns)\n",
    "df_6thru3_not = df_6thru3_not[df_6thru3_not['POSTSEASON'] > -0.91] # -0.91\n",
    "df_6thru3_not = df_6thru3_not.drop(columns=['POSTSEASON', 'SEED'])\n"
   ]
  },
  {
   "cell_type": "code",
   "execution_count": null,
   "metadata": {},
   "outputs": [],
   "source": [
    "df_top2_not = df[df['SEED'] <= 2]\n",
    "df_top2_not = pd.DataFrame(scaler.fit_transform(df_top2_not), columns=df_top2_not.columns)\n",
    "df_top2_not = df_top2_not[df_top2_not['POSTSEASON'] > -0.9] # -0.9\n",
    "df_top2_not = df_top2_not.drop(columns=['POSTSEASON', 'SEED'])\n"
   ]
  },
  {
   "cell_type": "code",
   "execution_count": null,
   "metadata": {},
   "outputs": [],
   "source": [
    "df_notU = pd.concat([df_6thru3_not, df_top2_not])\n",
    "df_notU.reset_index(drop=True, inplace=True)\n",
    "df_notU.head()"
   ]
  },
  {
   "cell_type": "code",
   "execution_count": null,
   "metadata": {},
   "outputs": [],
   "source": [
    "upset_means = pd.DataFrame(df_upset.mean(), columns=['Mean'])\n",
    "upset_means.head(22)"
   ]
  },
  {
   "cell_type": "code",
   "execution_count": null,
   "metadata": {},
   "outputs": [],
   "source": [
    "not_upset_means = pd.DataFrame(df_notU.mean(), columns=['Mean'])\n",
    "not_upset_means.head(22)"
   ]
  },
  {
   "cell_type": "code",
   "execution_count": null,
   "metadata": {},
   "outputs": [],
   "source": [
    "upset_diff_df = not_upset_means- upset_means\n",
    "\n",
    "upset_diff_df = upset_diff_df.T\n",
    "\n",
    "upset_diff_df.head()"
   ]
  },
  {
   "cell_type": "code",
   "execution_count": null,
   "metadata": {},
   "outputs": [],
   "source": [
    "sns.set_theme(context='notebook', style='darkgrid')\n",
    "\n",
    "plt.figure(figsize=(12, 8))\n",
    "\n",
    "# Create the bar plot\n",
    "ax = sns.barplot(data=upset_diff_df, orient='h')\n",
    "# Set the y-tick labels\n",
    "ax.set_yticklabels(upset_diff_df.columns)\n",
    "\n",
    "# Set the labels and title\n",
    "plt.xlabel('Mean Standardized Difference')\n",
    "plt.ylabel('Features')\n",
    "plt.title('Mean Standardized Difference in Stats Between Teams Not Upset and Teams Upset')\n",
    "\n",
    "# Show the plot\n",
    "plt.show()"
   ]
  },
  {
   "cell_type": "markdown",
   "metadata": {},
   "source": [
    "Teams who get upset are more likely to perform worse at home and turn the ball over at a higher rate. Also tend to be more defensive teams."
   ]
  },
  {
   "cell_type": "markdown",
   "metadata": {},
   "source": [
    "### Lets Look at Teams who Pulled Off Upsets"
   ]
  },
  {
   "cell_type": "code",
   "execution_count": null,
   "metadata": {},
   "outputs": [],
   "source": [
    "df_higher = df[df['SEED'] > 10]\n",
    "df_higher = pd.DataFrame(scaler.fit_transform(df_higher), columns=df_higher.columns)\n",
    "\n",
    "df_upsetters = df_higher[df_higher['POSTSEASON'] > 0.86]\n",
    "df_upsetters = df_upsetters.drop(columns=['POSTSEASON', 'SEED'])\n"
   ]
  },
  {
   "cell_type": "code",
   "execution_count": null,
   "metadata": {},
   "outputs": [],
   "source": [
    "df_no = df_higher[df_higher['POSTSEASON'] < 0.86]\n",
    "df_no = df_no.drop(columns=['POSTSEASON', 'SEED'])\n"
   ]
  },
  {
   "cell_type": "code",
   "execution_count": null,
   "metadata": {},
   "outputs": [],
   "source": [
    "upsetter_means = pd.DataFrame(df_upsetters.mean(), columns=['Mean'])\n",
    "upsetter_means.head(22)"
   ]
  },
  {
   "cell_type": "code",
   "execution_count": null,
   "metadata": {},
   "outputs": [],
   "source": [
    "no_upset_means = pd.DataFrame(df_no.mean(), columns=['Mean'])\n",
    "no_upset_means.head(22)"
   ]
  },
  {
   "cell_type": "code",
   "execution_count": null,
   "metadata": {},
   "outputs": [],
   "source": [
    "upsetter_diff_df = upsetter_means-  no_upset_means\n",
    "\n",
    "upsetter_diff_df = upsetter_diff_df.T\n",
    "\n",
    "upsetter_diff_df.head()"
   ]
  },
  {
   "cell_type": "code",
   "execution_count": null,
   "metadata": {},
   "outputs": [],
   "source": [
    "sns.set_theme(context='notebook', style='darkgrid')\n",
    "\n",
    "plt.figure(figsize=(12, 8))\n",
    "\n",
    "# Create the bar plot\n",
    "ax = sns.barplot(data=upsetter_diff_df, orient='h')\n",
    "# Set the y-tick labels\n",
    "ax.set_yticklabels(upsetter_diff_df.columns)\n",
    "\n",
    "# Set the labels and title\n",
    "plt.xlabel('Mean Standardized Difference')\n",
    "plt.ylabel('Features')\n",
    "plt.title('Mean Standardized Difference in Stats Between Teams who Pulled off Upset and Not')\n",
    "\n",
    "# Show the plot\n",
    "plt.show()"
   ]
  },
  {
   "cell_type": "markdown",
   "metadata": {},
   "source": [
    "For the first time in this exploration, defense seems to matter more here. Opponent adjust also matters a ton, no surprise there. "
   ]
  },
  {
   "cell_type": "markdown",
   "metadata": {},
   "source": [
    "## 5. Random Forest Model Training\n",
    "### 5.1 Split into train and test data"
   ]
  },
  {
   "cell_type": "code",
   "execution_count": null,
   "metadata": {},
   "outputs": [],
   "source": [
    "# Assign X and Y variables\n",
    "X = df.drop('POSTSEASON', axis=1)\n",
    "\n",
    "y = df['POSTSEASON']\n",
    "\n",
    "X_train, X_test, y_train, y_test = train_test_split(X, y, test_size=0.2, random_state=42)\n"
   ]
  },
  {
   "cell_type": "code",
   "execution_count": null,
   "metadata": {},
   "outputs": [],
   "source": [
    "X_train.shape, X_test.shape\n"
   ]
  },
  {
   "cell_type": "markdown",
   "metadata": {},
   "source": [
    "### 5.2 Tune Paramters and Train Model"
   ]
  },
  {
   "cell_type": "code",
   "execution_count": null,
   "metadata": {},
   "outputs": [],
   "source": [
    "max_features_range = ['sqrt', 'auto', 'log2', None]\n",
    "n_estimators_range = [50, 100, 200, 500, 1000]\n",
    "max_depth_range = np.arange(4, 20, 2)\n",
    "min_samples_leaf_range = [1, 2]\n",
    "min_samples_split_range = np.arange(2, 10, 2)\n",
    "bootstrap_range = [True, False]\n",
    "criterion_range = ['gini', 'entropy']\n",
    "\n",
    "param_grid = dict(max_features = max_features_range, n_estimators = n_estimators_range, max_depth = max_depth_range, \n",
    "                  min_samples_leaf = min_samples_leaf_range, min_samples_split=min_samples_split_range, \n",
    "                  criterion = criterion_range, bootstrap = bootstrap_range)"
   ]
  },
  {
   "cell_type": "markdown",
   "metadata": {},
   "source": [
    "### Create Custom Scorer\n",
    "This scorer tries to mitigate the difference between the predicted round lost and actual round lost"
   ]
  },
  {
   "cell_type": "code",
   "execution_count": null,
   "metadata": {},
   "outputs": [],
   "source": [
    "def custom_mean_diff(y_true, y_pred):\n",
    "    diff = abs(y_pred - y_true)\n",
    "    mean_diff = diff.mean()\n",
    "    return mean_diff\n",
    "\n",
    "scorer = make_scorer(custom_mean_diff, greater_is_better=False)"
   ]
  },
  {
   "cell_type": "code",
   "execution_count": null,
   "metadata": {},
   "outputs": [],
   "source": [
    "grid = GridSearchCV(estimator=RandomForestClassifier(), param_grid=param_grid, cv=7, scoring=scorer)"
   ]
  },
  {
   "cell_type": "code",
   "execution_count": null,
   "metadata": {},
   "outputs": [],
   "source": [
    "# grid.fit(X_train, y_train)"
   ]
  },
  {
   "cell_type": "code",
   "execution_count": null,
   "metadata": {},
   "outputs": [],
   "source": [
    "#grid.best_params_, grid.best_score_"
   ]
  },
  {
   "cell_type": "code",
   "execution_count": null,
   "metadata": {},
   "outputs": [],
   "source": [
    "rf = RandomForestClassifier(n_estimators= 100, max_features= None, max_depth= 14, min_samples_leaf= 1, min_samples_split= 6,\n",
    "                            criterion= 'entropy', bootstrap= True, random_state=0)\n",
    "rf.fit(X_train, y_train)"
   ]
  },
  {
   "cell_type": "markdown",
   "metadata": {},
   "source": [
    "### Save the model"
   ]
  },
  {
   "cell_type": "code",
   "execution_count": null,
   "metadata": {},
   "outputs": [],
   "source": [
    "#import joblib\n",
    "#joblib.dump(rf, '../models/rf.pkl')"
   ]
  },
  {
   "cell_type": "markdown",
   "metadata": {},
   "source": [
    "### 5.3 Evaluation of Model"
   ]
  },
  {
   "cell_type": "code",
   "execution_count": null,
   "metadata": {},
   "outputs": [],
   "source": [
    "y_pred_rf = rf.predict(X_test)"
   ]
  },
  {
   "cell_type": "code",
   "execution_count": null,
   "metadata": {},
   "outputs": [],
   "source": [
    "X_test_eval = X_test.copy()\n",
    "X_test_eval['PRED'] = rf.predict(X_test)\n",
    "test_data_eval = pd.merge(X_test_eval, y_test, left_index=True, right_index=True, how='inner')\n",
    "test_data_eval['DIFF'] = test_data_eval['PRED'] - test_data_eval['POSTSEASON']\n",
    "\n",
    "print(\"Off by an average of\", '{:.4f}'.format(test_data_eval['DIFF'].mean()), \"rounds\")"
   ]
  },
  {
   "cell_type": "code",
   "execution_count": null,
   "metadata": {},
   "outputs": [],
   "source": [
    "print(confusion_matrix(y_test, y_pred_rf))\n",
    "print()"
   ]
  },
  {
   "cell_type": "code",
   "execution_count": null,
   "metadata": {},
   "outputs": [],
   "source": [
    "print(classification_report(y_test, y_pred_rf, zero_division=1))"
   ]
  },
  {
   "cell_type": "code",
   "execution_count": null,
   "metadata": {},
   "outputs": [],
   "source": [
    "sns.set_theme(context='notebook', style='darkgrid')\n",
    "\n",
    "plt.figure(figsize=(12, 8))\n",
    "\n",
    "sns.histplot(test_data_eval['DIFF'], color='black', kde=True, fill=True, discrete=True)\n",
    "\n",
    "plt.yticks(range(0, 100, 5))\n",
    "plt.xlabel('Difference Between Predicted and Actual')\n",
    "plt.ylabel('Frequency')\n",
    "plt.title('Random Forest Model Predicted vs Actual')\n",
    "plt.show()"
   ]
  },
  {
   "cell_type": "markdown",
   "metadata": {},
   "source": [
    "Pretty good normal distribution of outcomes here. Slight bias towards underpredicting."
   ]
  },
  {
   "cell_type": "code",
   "execution_count": null,
   "metadata": {},
   "outputs": [],
   "source": [
    "test_data_eval_edited = test_data_eval[test_data_eval['POSTSEASON'] > 1.0]\n",
    "\n",
    "sns.set_theme(context='notebook', style='darkgrid')\n",
    "\n",
    "sns.displot(test_data_eval_edited, x='DIFF', hue='POSTSEASON', kde=True, palette='rainbow', discrete=True, height = 8)\n",
    "\n",
    "plt.yticks(range(0, 5, 1))\n",
    "plt.xlabel('Difference Between Predicted and Actual')\n",
    "plt.ylabel('Frequency')\n",
    "plt.title('Random Forest Model Predicted vs Actual: Sweet 16 and Further')\n",
    "plt.show()"
   ]
  },
  {
   "cell_type": "markdown",
   "metadata": {},
   "source": [
    "Underpredicting even moreso for teams who actually make it further. "
   ]
  },
  {
   "cell_type": "markdown",
   "metadata": {},
   "source": [
    "### 5.4 View Feature Importance"
   ]
  },
  {
   "cell_type": "code",
   "execution_count": null,
   "metadata": {},
   "outputs": [],
   "source": [
    "import joblib \n",
    "rf = joblib.load('../models/rf.pkl')\n",
    "feature_importance = rf.feature_importances_\n",
    "feature_names = X.columns  \n",
    "\n",
    "# Sort feature importances and feature names in ascending order\n",
    "sorted_indices = np.argsort(feature_importance)[::-1]\n",
    "sorted_feature_importance = feature_importance[sorted_indices]\n",
    "sorted_feature_names = np.array(feature_names)[sorted_indices]\n",
    "\n",
    "# Create a horizontal bar plot with Seaborn\n",
    "plt.figure(figsize=(10, 6))\n",
    "sns.barplot(x=sorted_feature_importance, y=sorted_feature_names)\n",
    "plt.xlabel('Feature Importance')\n",
    "plt.ylabel('Feature')\n",
    "plt.title('Random Forest Feature Importance')\n",
    "plt.show()"
   ]
  }
 ],
 "metadata": {
  "kernelspec": {
   "display_name": "Python 3",
   "language": "python",
   "name": "python3"
  },
  "language_info": {
   "codemirror_mode": {
    "name": "ipython",
    "version": 3
   },
   "file_extension": ".py",
   "mimetype": "text/x-python",
   "name": "python",
   "nbconvert_exporter": "python",
   "pygments_lexer": "ipython3",
   "version": "3.9.0"
  }
 },
 "nbformat": 4,
 "nbformat_minor": 2
}
